{
 "cells": [
  {
   "cell_type": "code",
   "execution_count": null,
   "metadata": {},
   "outputs": [],
   "source": [
    "!radical-stack"
   ]
  },
  {
   "cell_type": "code",
   "execution_count": null,
   "metadata": {},
   "outputs": [],
   "source": [
    "import radical.analytics as ra\n",
    "import radical.utils     as ru"
   ]
  },
  {
   "cell_type": "code",
   "execution_count": null,
   "metadata": {},
   "outputs": [],
   "source": [
    "SID      = 'rp.session.login3.matitov.019026.0001'\n",
    "SID_PATH = '../data/workspace/%s' % SID"
   ]
  },
  {
   "cell_type": "code",
   "execution_count": null,
   "metadata": {},
   "outputs": [],
   "source": [
    "%%capture --no-display\n",
    "\n",
    "session = ra.Session(SID_PATH, 'radical.pilot')"
   ]
  },
  {
   "cell_type": "markdown",
   "metadata": {},
   "source": [
    "# DVM startup[/termination]"
   ]
  },
  {
   "cell_type": "markdown",
   "metadata": {},
   "source": [
    "**\\*** Termination metrics are collected with a corresponding bash-script (`get-metrics.sh`)"
   ]
  },
  {
   "cell_type": "code",
   "execution_count": null,
   "metadata": {},
   "outputs": [],
   "source": [
    "%%capture --no-display\n",
    "\n",
    "session_w_pilots = session.filter(etype='pilot', inplace=False)\n",
    "pilot = session.get(uid=session_w_pilots.list('uid')[0])[0]"
   ]
  },
  {
   "cell_type": "code",
   "execution_count": null,
   "metadata": {},
   "outputs": [],
   "source": [
    "dvm_startup = []\n",
    "\n",
    "for _start, _ready in zip(sorted(pilot.timestamps(event={ru.EVENT: 'dvm_start'})), \n",
    "                          sorted(pilot.timestamps(event={ru.EVENT: 'dvm_ready'}))):\n",
    "    dvm_startup.append(_ready - _start)\n",
    "\n",
    "if dvm_startup:\n",
    "    print('DVM startup time (avg): %.2f sec\\n' % round(sum(dvm_startup) / len(dvm_startup), 2))"
   ]
  },
  {
   "cell_type": "code",
   "execution_count": null,
   "metadata": {},
   "outputs": [],
   "source": []
  }
 ],
 "metadata": {
  "kernelspec": {
   "display_name": "Python 3 (ipykernel)",
   "language": "python",
   "name": "python3"
  },
  "language_info": {
   "codemirror_mode": {
    "name": "ipython",
    "version": 3
   },
   "file_extension": ".py",
   "mimetype": "text/x-python",
   "name": "python",
   "nbconvert_exporter": "python",
   "pygments_lexer": "ipython3",
   "version": "3.7.10"
  }
 },
 "nbformat": 4,
 "nbformat_minor": 4
}
