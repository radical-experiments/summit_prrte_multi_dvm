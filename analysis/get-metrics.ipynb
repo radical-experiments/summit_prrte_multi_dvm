{
 "cells": [
  {
   "cell_type": "code",
   "execution_count": 2,
   "metadata": {},
   "outputs": [
    {
     "name": "stdout",
     "output_type": "stream",
     "text": [
      "\r\n",
      "  python               : /Users/mtitov/.miniconda3/envs/stack/bin/python3\r\n",
      "  pythonpath           : \r\n",
      "  version              : 3.7.10\r\n",
      "  virtualenv           : stack\r\n",
      "\r\n",
      "  radical.analytics    : 1.6.7-v0.1.6.7-51-g2255eae@devel\r\n",
      "  radical.gtod         : 1.6.7\r\n",
      "  radical.pilot        : 1.10.0\r\n",
      "  radical.saga         : 1.8.0\r\n",
      "  radical.utils        : 1.9.0\r\n",
      "\r\n"
     ]
    }
   ],
   "source": [
    "!radical-stack"
   ]
  },
  {
   "cell_type": "code",
   "execution_count": 3,
   "metadata": {},
   "outputs": [],
   "source": [
    "%matplotlib inline\n",
    "\n",
    "import matplotlib.pyplot as plt\n",
    "import matplotlib.ticker as mticker"
   ]
  },
  {
   "cell_type": "code",
   "execution_count": 4,
   "metadata": {},
   "outputs": [],
   "source": [
    "import radical.analytics as ra\n",
    "import radical.utils     as ru"
   ]
  },
  {
   "cell_type": "code",
   "execution_count": 61,
   "metadata": {},
   "outputs": [],
   "source": [
    "SID      = 'rp.session.login5.matitov.018970.0001'\n",
    "SID_PATH = '../data/%s' % SID"
   ]
  },
  {
   "cell_type": "code",
   "execution_count": 62,
   "metadata": {},
   "outputs": [],
   "source": [
    "%%capture --no-display\n",
    "\n",
    "session = ra.Session(SID_PATH, 'radical.pilot')"
   ]
  },
  {
   "cell_type": "markdown",
   "metadata": {},
   "source": [
    "# DVM startup[/termination]"
   ]
  },
  {
   "cell_type": "markdown",
   "metadata": {},
   "source": [
    "**\\*** Termination metrics are collected with a corresponding bash-script (`get-metrics.sh`)"
   ]
  },
  {
   "cell_type": "code",
   "execution_count": 63,
   "metadata": {},
   "outputs": [],
   "source": [
    "%%capture --no-display\n",
    "\n",
    "session_w_pilots = session.filter(etype='pilot')\n",
    "pilot = session.get(uid=session_w_pilots.list('uid')[0])[0]"
   ]
  },
  {
   "cell_type": "code",
   "execution_count": 64,
   "metadata": {},
   "outputs": [
    {
     "name": "stdout",
     "output_type": "stream",
     "text": [
      "DVM startup time (avg): 1.96 sec\n",
      "\n"
     ]
    }
   ],
   "source": [
    "dvm_startup = []\n",
    "\n",
    "for _start, _ready in zip(sorted(pilot.timestamps(event={ru.EVENT: 'dvm_start'})), \n",
    "                          sorted(pilot.timestamps(event={ru.EVENT: 'dvm_ready'}))):\n",
    "    dvm_startup.append(_ready - _start)\n",
    "\n",
    "print('DVM startup time (avg): %.2f sec\\n' % round(sum(dvm_startup) / len(dvm_startup), 2))"
   ]
  },
  {
   "cell_type": "code",
   "execution_count": null,
   "metadata": {},
   "outputs": [],
   "source": []
  }
 ],
 "metadata": {
  "kernelspec": {
   "display_name": "Python 3 (ipykernel)",
   "language": "python",
   "name": "python3"
  },
  "language_info": {
   "codemirror_mode": {
    "name": "ipython",
    "version": 3
   },
   "file_extension": ".py",
   "mimetype": "text/x-python",
   "name": "python",
   "nbconvert_exporter": "python",
   "pygments_lexer": "ipython3",
   "version": "3.7.10"
  }
 },
 "nbformat": 4,
 "nbformat_minor": 4
}
