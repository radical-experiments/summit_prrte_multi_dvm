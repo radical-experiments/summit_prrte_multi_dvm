{
 "cells": [
  {
   "cell_type": "code",
   "execution_count": null,
   "id": "d36aa9ab",
   "metadata": {},
   "outputs": [],
   "source": [
    "from plotter import Plotter"
   ]
  },
  {
   "cell_type": "code",
   "execution_count": null,
   "id": "e36ee7d0",
   "metadata": {},
   "outputs": [],
   "source": [
    "sessions = {\n",
    "    'n256_dvm1'  : {'sid': 'rp.session.login5.matitov.018968.0000',\n",
    "                    'd_full': '256 nodes, 1 DVM',\n",
    "                    'd_nodes': '256 nodes',\n",
    "                    'd_dvms': '1 DVM'},\n",
    "    'n256_dvm2'  : {'sid': 'rp.session.login3.matitov.019026.0002',\n",
    "                    'd_full': '256 nodes, 2 DVMs',\n",
    "                    'd_nodes': '256 nodes',\n",
    "                    'd_dvms': '2 DVMs'},\n",
    "    'n256_dvm256': {'sid': 'rp.session.login5.matitov.018970.0001',\n",
    "                    'd_full': '256 nodes, 256 DVMs',\n",
    "                    'd_nodes': '256 nodes',\n",
    "                    'd_dvms': '256 DVMs'},\n",
    "    'n512_dvm2'  : {'sid': 'rp.session.login3.matitov.019024.0001',\n",
    "                    'd_full': '512 nodes, 2 DVMs',\n",
    "                    'd_nodes': '512 nodes',\n",
    "                    'd_dvms': '2 DVMs'},\n",
    "    'n1024_dvm8' : {'sid': 'rp.session.login3.matitov.019027.0000',\n",
    "                    'd_full': '1024 nodes + 4 nodes for sub-agents, 8 DVMs',\n",
    "                    'd_nodes': '1024 nodes',\n",
    "                    'd_dvms': '8 DVMs'},\n",
    "    'n2048_dvm8' : {'sid': 'rp.session.login4.matitov.019010.0000',\n",
    "                    'd_full': '2048 nodes + 3 nodes for sub-agents, 8 DVMs',\n",
    "                    'd_nodes': '2048 nodes',\n",
    "                    'd_dvms': '8 DVMs'},\n",
    "}"
   ]
  },
  {
   "cell_type": "code",
   "execution_count": null,
   "id": "4e4ae6dc",
   "metadata": {},
   "outputs": [],
   "source": [
    "p = Plotter(input_dir='../data/workspace', plots_dir='../plots', sessions=sessions, save=True)"
   ]
  },
  {
   "cell_type": "code",
   "execution_count": null,
   "id": "41f0f4c3",
   "metadata": {},
   "outputs": [],
   "source": [
    "p.set_prrte_placement_times(s_keys=['n256_dvm1', 'n256_dvm2', 'n256_dvm256'],\n",
    "                            with_comments=True)"
   ]
  },
  {
   "cell_type": "code",
   "execution_count": null,
   "id": "73ae1668",
   "metadata": {},
   "outputs": [],
   "source": [
    "p.plot_prrte_placement_time_distr(x_label='Experiments with 256 nodes')"
   ]
  },
  {
   "cell_type": "code",
   "execution_count": null,
   "id": "cf49d2d3",
   "metadata": {},
   "outputs": [],
   "source": [
    "p.set_prrte_placement_times(s_keys=['n512_dvm2', 'n1024_dvm8'],\n",
    "                            with_comments=True)"
   ]
  },
  {
   "cell_type": "code",
   "execution_count": null,
   "id": "4236e74b",
   "metadata": {},
   "outputs": [],
   "source": [
    "p.plot_prrte_placement_times(upper_threshold=1000)"
   ]
  },
  {
   "cell_type": "code",
   "execution_count": null,
   "id": "8e88711f",
   "metadata": {},
   "outputs": [],
   "source": []
  }
 ],
 "metadata": {
  "kernelspec": {
   "display_name": "Python 3 (ipykernel)",
   "language": "python",
   "name": "python3"
  },
  "language_info": {
   "codemirror_mode": {
    "name": "ipython",
    "version": 3
   },
   "file_extension": ".py",
   "mimetype": "text/x-python",
   "name": "python",
   "nbconvert_exporter": "python",
   "pygments_lexer": "ipython3",
   "version": "3.7.10"
  }
 },
 "nbformat": 4,
 "nbformat_minor": 5
}