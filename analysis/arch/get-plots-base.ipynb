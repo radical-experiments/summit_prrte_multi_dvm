{
 "cells": [
  {
   "cell_type": "code",
   "execution_count": null,
   "metadata": {
    "pycharm": {
     "name": "#%%\n"
    }
   },
   "outputs": [],
   "source": [
    "!radical-stack"
   ]
  },
  {
   "cell_type": "code",
   "execution_count": null,
   "metadata": {
    "pycharm": {
     "name": "#%%\n"
    }
   },
   "outputs": [],
   "source": [
    "%matplotlib inline\n",
    "\n",
    "import matplotlib.pyplot as plt\n",
    "import matplotlib.ticker as mticker"
   ]
  },
  {
   "cell_type": "code",
   "execution_count": null,
   "metadata": {
    "pycharm": {
     "name": "#%%\n"
    }
   },
   "outputs": [],
   "source": [
    "import os\n",
    "\n",
    "import radical.analytics as ra\n",
    "import radical.utils     as ru"
   ]
  },
  {
   "cell_type": "code",
   "execution_count": null,
   "metadata": {
    "pycharm": {
     "name": "#%%\n"
    }
   },
   "outputs": [],
   "source": [
    "SID            = 'rp.session.login3.matitov.019026.0002'\n",
    "SID_PATH       = '../../data/workspace/%s' % SID\n",
    "PLOT_NAME_BASE = '.'.join(SID.rsplit('.', 2)[1:])\n",
    "OUTPUT_DIR     = '../../plots'\n",
    "\n",
    "DESCRIPTION    = '8 DVMs, 4 nodes for sub-agents'\n",
    "\n",
    "#X_LIMITS = [0, 3000]  # for 256 nodes\n",
    "X_LIMITS = [0, 3500]  # for 512 nodes, 1K\n",
    "#X_LIMITS = [0, 5500]  # for 2K nodes run"
   ]
  },
  {
   "cell_type": "code",
   "execution_count": null,
   "metadata": {
    "pycharm": {
     "name": "#%%\n"
    }
   },
   "outputs": [],
   "source": [
    "%%capture --no-display\n",
    "\n",
    "session = ra.Session(SID_PATH, 'radical.pilot')\n",
    "\n",
    "s_info      = {'p'      : session.filter(etype='pilot', inplace=False),\n",
    "               't'      : session.filter(etype='task', inplace=False)}\n",
    "s_info.update({'pid'    : s_info['p'].list('uid')[0],\n",
    "               'n_tasks': len(s_info['t'].get())})\n",
    "s_info.update({'n_cores': s_info['p'].get(uid=s_info['pid'])[0].description['cores'],\n",
    "               'n_gpus' : s_info['p'].get(uid=s_info['pid'])[0].description['gpus'],\n",
    "               'cores_per_node': s_info['p'].get(uid=s_info['pid'])[0].\n",
    "                   cfg['resource_details']['rm_info']['cores_per_node']})\n",
    "s_info.update({'n_nodes': int(s_info['n_cores'] / s_info['cores_per_node'])})"
   ]
  },
  {
   "cell_type": "code",
   "execution_count": null,
   "metadata": {
    "pycharm": {
     "name": "#%%\n"
    }
   },
   "outputs": [],
   "source": [
    "pilot = session.get(uid=s_info['pid'])[0]\n",
    "PILOT_START_TIME = pilot.timestamps(event={ru.EVENT: 'bootstrap_0_start'})[0]"
   ]
  },
  {
   "cell_type": "markdown",
   "metadata": {
    "pycharm": {
     "name": "#%% md\n"
    }
   },
   "source": [
    "# Concurrency plot"
   ]
  },
  {
   "cell_type": "code",
   "execution_count": null,
   "metadata": {
    "pycharm": {
     "name": "#%%\n"
    }
   },
   "outputs": [],
   "source": [
    "events = {'Task scheduling': [{ru.STATE: 'AGENT_SCHEDULING'},\n",
    "                              {ru.EVENT: 'schedule_ok'}],\n",
    "          'Task execution' : [{ru.EVENT: 'exec_start'},\n",
    "                              {ru.EVENT: 'exec_stop'}],\n",
    "          'Task placement' : [{ru.EVENT: 'task_exec_start'},\n",
    "                              {ru.EVENT: 'app_start'}]}"
   ]
  },
  {
   "cell_type": "code",
   "execution_count": null,
   "metadata": {
    "pycharm": {
     "name": "#%%\n"
    }
   },
   "outputs": [],
   "source": [
    "%%capture --no-display\n",
    "\n",
    "time_series = {e: session.concurrency(event=events[e]) for e in events}\n",
    "fig, ax     = plt.subplots(figsize=(ra.get_plotsize(500)))\n",
    "\n",
    "for name in time_series:\n",
    "    ax.plot([e[0] - PILOT_START_TIME for e in time_series[name]],\n",
    "            [e[1] for e in time_series[name]],\n",
    "            label=ra.to_latex(name))\n",
    "\n",
    "ax.set_xlim(X_LIMITS)\n",
    "\n",
    "ax.set_title('%s Tasks - %s Nodes (%s)' % (s_info['n_tasks'], s_info['n_nodes'], DESCRIPTION))\n",
    "ax.legend(ncol=2, loc='upper right')\n",
    "ax.set_ylabel('Number of tasks')\n",
    "ax.set_xlabel('Time (s)')\n",
    "\n",
    "fig.savefig(os.path.join(OUTPUT_DIR, '%s.concurrency.png' % PLOT_NAME_BASE))"
   ]
  },
  {
   "cell_type": "markdown",
   "metadata": {
    "pycharm": {
     "name": "#%% md\n"
    }
   },
   "source": [
    "# Utilization plot(s)"
   ]
  },
  {
   "cell_type": "code",
   "execution_count": null,
   "metadata": {
    "pycharm": {
     "name": "#%%\n"
    }
   },
   "outputs": [],
   "source": [
    "def utilization_plot(rtype=None):\n",
    "\n",
    "    rtype = rtype or 'cpu'\n",
    "\n",
    "    metrics = [\n",
    "        ['Bootstrap', ['boot', 'setup_1'], '#c6dbef'],\n",
    "        ['Warmup',    ['warm'], '#f0f0f0'],\n",
    "        ['Schedule',  ['exec_queue', 'exec_prep', 'unschedule'], '#c994c7'],\n",
    "        ['Exec RP',   ['exec_rp', 'exec_sh', 'term_sh', 'term_rp'], '#fdbb84'],\n",
    "        ['Exec Cmd',  ['exec_cmd'], '#e31a1c'],\n",
    "        ['Cooldown',  ['drain'], '#addd8e']\n",
    "    ]\n",
    "\n",
    "    exp = ra.Experiment([SID_PATH], stype='radical.pilot')\n",
    "    provided, consumed, stats_abs, stats_rel, info = exp.utilization(\n",
    "        metrics=metrics, rtype=rtype)\n",
    "\n",
    "    # get the start time of each pilot\n",
    "    p_zeros = ra.get_pilots_zeros(exp)\n",
    "    fig, ax = plt.subplots(figsize=(ra.get_plotsize(500)))\n",
    "\n",
    "    # generate the subplot with labels\n",
    "    legend, patches, x, y = ra.get_plot_utilization(\n",
    "        metrics, consumed, p_zeros[SID][s_info['pid']], SID)\n",
    "\n",
    "    # place all the patches, one for each metric, on the axes\n",
    "    for patch in patches:\n",
    "        ax.add_patch(patch)\n",
    "    \n",
    "    ax.set_title('%s Tasks - %s Nodes (%s)' % (s_info['n_tasks'], s_info['n_nodes'], DESCRIPTION))\n",
    "\n",
    "    #ax.set_xlim([x['min'], x['max']])\n",
    "    ax.set_xlim(X_LIMITS)\n",
    "    ax.set_ylim([y['min'], y['max']])\n",
    "    ax.yaxis.set_major_locator(mticker.MaxNLocator(5))\n",
    "    ax.xaxis.set_major_locator(mticker.MaxNLocator(5))\n",
    "\n",
    "    if rtype == 'cpu':\n",
    "        # Specific to Summit when using SMT=4 (default)\n",
    "        ax.yaxis.set_major_formatter(\n",
    "            mticker.FuncFormatter(lambda z, pos: int(z / 4)))\n",
    "\n",
    "    ax.legend(legend, [m[0] for m in metrics],\n",
    "              loc='upper center', bbox_to_anchor=(0.45, 1.175), ncol=6)\n",
    "    if rtype == 'cpu':\n",
    "        ax.set_ylabel('Number of CPU cores')\n",
    "    elif rtype == 'gpu':\n",
    "        ax.set_ylabel('Number of GPUs')\n",
    "    ax.set_xlabel('Time (s)')\n",
    "\n",
    "    # save plot to PNG file\n",
    "    fig.savefig(os.path.join(OUTPUT_DIR, '%s.%s.utilization.png' % (PLOT_NAME_BASE, rtype)))"
   ]
  },
  {
   "cell_type": "markdown",
   "metadata": {
    "pycharm": {
     "name": "#%% md\n"
    }
   },
   "source": [
    "### CPU"
   ]
  },
  {
   "cell_type": "code",
   "execution_count": null,
   "metadata": {
    "pycharm": {
     "name": "#%%\n"
    }
   },
   "outputs": [],
   "source": [
    "%%capture --no-display\n",
    "\n",
    "utilization_plot(rtype='cpu')"
   ]
  },
  {
   "cell_type": "markdown",
   "metadata": {
    "pycharm": {
     "name": "#%% md\n"
    }
   },
   "source": [
    "### GPU"
   ]
  },
  {
   "cell_type": "code",
   "execution_count": null,
   "metadata": {
    "pycharm": {
     "name": "#%%\n"
    }
   },
   "outputs": [],
   "source": [
    "%%capture --no-display\n",
    "\n",
    "utilization_plot(rtype='gpu')"
   ]
  },
  {
   "cell_type": "code",
   "execution_count": null,
   "metadata": {
    "pycharm": {
     "name": "#%%\n"
    }
   },
   "outputs": [],
   "source": []
  }
 ],
 "metadata": {
  "kernelspec": {
   "display_name": "Python 3 (ipykernel)",
   "language": "python",
   "name": "python3"
  },
  "language_info": {
   "codemirror_mode": {
    "name": "ipython",
    "version": 3
   },
   "file_extension": ".py",
   "mimetype": "text/x-python",
   "name": "python",
   "nbconvert_exporter": "python",
   "pygments_lexer": "ipython3",
   "version": "3.7.10"
  }
 },
 "nbformat": 4,
 "nbformat_minor": 4
}